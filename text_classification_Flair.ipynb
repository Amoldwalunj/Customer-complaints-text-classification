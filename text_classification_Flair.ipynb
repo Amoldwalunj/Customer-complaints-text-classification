{
  "nbformat": 4,
  "nbformat_minor": 0,
  "metadata": {
    "colab": {
      "name": "text classification-Flair.ipynb",
      "provenance": [],
      "authorship_tag": "ABX9TyN9gFWoH9WneL8XYBdiboqR",
      "include_colab_link": true
    },
    "kernelspec": {
      "name": "python3",
      "display_name": "Python 3"
    },
    "language_info": {
      "name": "python"
    },
    "accelerator": "GPU"
  },
  "cells": [
    {
      "cell_type": "markdown",
      "metadata": {
        "id": "view-in-github",
        "colab_type": "text"
      },
      "source": [
        "<a href=\"https://colab.research.google.com/github/Amoldwalunj/Customer-complaints-text-classification/blob/main/text_classification_Flair.ipynb\" target=\"_parent\"><img src=\"https://colab.research.google.com/assets/colab-badge.svg\" alt=\"Open In Colab\"/></a>"
      ]
    },
    {
      "cell_type": "code",
      "metadata": {
        "id": "0TLiURtXgELx"
      },
      "source": [
        "from __future__ import absolute_import, division, print_function, unicode_literals\n",
        "\n",
        "import tensorflow as tf\n",
        "\n",
        "import os\n",
        "import datetime\n",
        "import tensorflow_hub as hub\n",
        "import numpy as np\n",
        "    \n",
        "import pandas as pd\n",
        "from sklearn.model_selection import train_test_split\n",
        "\n",
        "from tensorflow.keras.preprocessing.text import Tokenizer\n",
        "from tensorflow.keras .preprocessing.sequence import pad_sequences\n",
        "from nltk.corpus import stopwords"
      ],
      "execution_count": 1,
      "outputs": []
    },
    {
      "cell_type": "code",
      "metadata": {
        "colab": {
          "base_uri": "https://localhost:8080/"
        },
        "id": "0fJQyImfgmFL",
        "outputId": "aefd2ff5-ba22-4a49-e860-a5117ff8f895"
      },
      "source": [
        "import nltk\n",
        "nltk.download('stopwords')"
      ],
      "execution_count": 2,
      "outputs": [
        {
          "output_type": "stream",
          "text": [
            "[nltk_data] Downloading package stopwords to /root/nltk_data...\n",
            "[nltk_data]   Unzipping corpora/stopwords.zip.\n"
          ],
          "name": "stdout"
        },
        {
          "output_type": "execute_result",
          "data": {
            "text/plain": [
              "True"
            ]
          },
          "metadata": {
            "tags": []
          },
          "execution_count": 2
        }
      ]
    },
    {
      "cell_type": "code",
      "metadata": {
        "id": "LjcSGpvqgtFw"
      },
      "source": [
        "STOPWORDS= set(stopwords.words('english'))"
      ],
      "execution_count": 3,
      "outputs": []
    },
    {
      "cell_type": "code",
      "metadata": {
        "id": "vNxn9N5piHS4"
      },
      "source": [
        "df=pd.read_csv('https://github.com/Amoldwalunj/Customer-complaints-text-classification/blob/main/consumer_compliants.zip?raw=true', compression='zip', sep=',', quotechar='\"')"
      ],
      "execution_count": 4,
      "outputs": []
    },
    {
      "cell_type": "code",
      "metadata": {
        "colab": {
          "base_uri": "https://localhost:8080/",
          "height": 1000
        },
        "id": "BbFX7MTLiKd5",
        "outputId": "9513bd94-f190-4706-eaa9-012bfaf31324"
      },
      "source": [
        "df"
      ],
      "execution_count": 5,
      "outputs": [
        {
          "output_type": "execute_result",
          "data": {
            "text/html": [
              "<div>\n",
              "<style scoped>\n",
              "    .dataframe tbody tr th:only-of-type {\n",
              "        vertical-align: middle;\n",
              "    }\n",
              "\n",
              "    .dataframe tbody tr th {\n",
              "        vertical-align: top;\n",
              "    }\n",
              "\n",
              "    .dataframe thead th {\n",
              "        text-align: right;\n",
              "    }\n",
              "</style>\n",
              "<table border=\"1\" class=\"dataframe\">\n",
              "  <thead>\n",
              "    <tr style=\"text-align: right;\">\n",
              "      <th></th>\n",
              "      <th>Date received</th>\n",
              "      <th>Product</th>\n",
              "      <th>Sub-product</th>\n",
              "      <th>Issue</th>\n",
              "      <th>Sub-issue</th>\n",
              "      <th>Consumer complaint narrative</th>\n",
              "      <th>Company public response</th>\n",
              "      <th>Company</th>\n",
              "      <th>State</th>\n",
              "      <th>ZIP code</th>\n",
              "      <th>Tags</th>\n",
              "      <th>Consumer consent provided?</th>\n",
              "      <th>Submitted via</th>\n",
              "      <th>Date sent to company</th>\n",
              "      <th>Company response to consumer</th>\n",
              "      <th>Timely response?</th>\n",
              "      <th>Consumer disputed?</th>\n",
              "      <th>Complaint ID</th>\n",
              "    </tr>\n",
              "  </thead>\n",
              "  <tbody>\n",
              "    <tr>\n",
              "      <th>0</th>\n",
              "      <td>4/3/2020</td>\n",
              "      <td>Vehicle loan or lease</td>\n",
              "      <td>Loan</td>\n",
              "      <td>Getting a loan or lease</td>\n",
              "      <td>Fraudulent loan</td>\n",
              "      <td>This auto loan was opened on XX/XX/2020 in XXX...</td>\n",
              "      <td>Company has responded to the consumer and the ...</td>\n",
              "      <td>TRUIST FINANCIAL CORPORATION</td>\n",
              "      <td>PA</td>\n",
              "      <td>None</td>\n",
              "      <td>None</td>\n",
              "      <td>Consent provided</td>\n",
              "      <td>Web</td>\n",
              "      <td>4/3/2020</td>\n",
              "      <td>Closed with explanation</td>\n",
              "      <td>Yes</td>\n",
              "      <td>NaN</td>\n",
              "      <td>3591341</td>\n",
              "    </tr>\n",
              "    <tr>\n",
              "      <th>1</th>\n",
              "      <td>3/12/2020</td>\n",
              "      <td>Debt collection</td>\n",
              "      <td>Payday loan debt</td>\n",
              "      <td>Attempts to collect debt not owed</td>\n",
              "      <td>Debt is not yours</td>\n",
              "      <td>In XXXX of 2019 I noticed a debt for {$620.00}...</td>\n",
              "      <td>None</td>\n",
              "      <td>CURO Intermediate Holdings</td>\n",
              "      <td>CO</td>\n",
              "      <td>806XX</td>\n",
              "      <td>None</td>\n",
              "      <td>Consent provided</td>\n",
              "      <td>Web</td>\n",
              "      <td>3/12/2020</td>\n",
              "      <td>Closed with explanation</td>\n",
              "      <td>Yes</td>\n",
              "      <td>NaN</td>\n",
              "      <td>3564184</td>\n",
              "    </tr>\n",
              "    <tr>\n",
              "      <th>2</th>\n",
              "      <td>2/6/2020</td>\n",
              "      <td>Vehicle loan or lease</td>\n",
              "      <td>Loan</td>\n",
              "      <td>Getting a loan or lease</td>\n",
              "      <td>Credit denial</td>\n",
              "      <td>As stated from Capital One, XXXX XX/XX/XXXX an...</td>\n",
              "      <td>None</td>\n",
              "      <td>CAPITAL ONE FINANCIAL CORPORATION</td>\n",
              "      <td>OH</td>\n",
              "      <td>430XX</td>\n",
              "      <td>None</td>\n",
              "      <td>Consent provided</td>\n",
              "      <td>Web</td>\n",
              "      <td>2/6/2020</td>\n",
              "      <td>Closed with explanation</td>\n",
              "      <td>Yes</td>\n",
              "      <td>NaN</td>\n",
              "      <td>3521949</td>\n",
              "    </tr>\n",
              "    <tr>\n",
              "      <th>3</th>\n",
              "      <td>3/6/2020</td>\n",
              "      <td>Checking or savings account</td>\n",
              "      <td>Savings account</td>\n",
              "      <td>Managing an account</td>\n",
              "      <td>Banking errors</td>\n",
              "      <td>Please see CFPB case XXXX. \\n\\nCapital One, in...</td>\n",
              "      <td>None</td>\n",
              "      <td>CAPITAL ONE FINANCIAL CORPORATION</td>\n",
              "      <td>CA</td>\n",
              "      <td>None</td>\n",
              "      <td>None</td>\n",
              "      <td>Consent provided</td>\n",
              "      <td>Web</td>\n",
              "      <td>3/6/2020</td>\n",
              "      <td>Closed with explanation</td>\n",
              "      <td>Yes</td>\n",
              "      <td>NaN</td>\n",
              "      <td>3556237</td>\n",
              "    </tr>\n",
              "    <tr>\n",
              "      <th>4</th>\n",
              "      <td>2/14/2020</td>\n",
              "      <td>Debt collection</td>\n",
              "      <td>Medical debt</td>\n",
              "      <td>Attempts to collect debt not owed</td>\n",
              "      <td>Debt is not yours</td>\n",
              "      <td>This debt was incurred due to medical malpract...</td>\n",
              "      <td>Company believes it acted appropriately as aut...</td>\n",
              "      <td>Merchants and Professional Bureau, Inc.</td>\n",
              "      <td>OH</td>\n",
              "      <td>432XX</td>\n",
              "      <td>None</td>\n",
              "      <td>Consent provided</td>\n",
              "      <td>Web</td>\n",
              "      <td>2/14/2020</td>\n",
              "      <td>Closed with explanation</td>\n",
              "      <td>Yes</td>\n",
              "      <td>NaN</td>\n",
              "      <td>3531704</td>\n",
              "    </tr>\n",
              "    <tr>\n",
              "      <th>...</th>\n",
              "      <td>...</td>\n",
              "      <td>...</td>\n",
              "      <td>...</td>\n",
              "      <td>...</td>\n",
              "      <td>...</td>\n",
              "      <td>...</td>\n",
              "      <td>...</td>\n",
              "      <td>...</td>\n",
              "      <td>...</td>\n",
              "      <td>...</td>\n",
              "      <td>...</td>\n",
              "      <td>...</td>\n",
              "      <td>...</td>\n",
              "      <td>...</td>\n",
              "      <td>...</td>\n",
              "      <td>...</td>\n",
              "      <td>...</td>\n",
              "      <td>...</td>\n",
              "    </tr>\n",
              "    <tr>\n",
              "      <th>57448</th>\n",
              "      <td>2/29/2020</td>\n",
              "      <td>Student loan</td>\n",
              "      <td>Federal student loan servicing</td>\n",
              "      <td>Dealing with your lender or servicer</td>\n",
              "      <td>Trouble with how payments are being handled</td>\n",
              "      <td>I am attempting to make a payment toward my st...</td>\n",
              "      <td>None</td>\n",
              "      <td>Nelnet, Inc.</td>\n",
              "      <td>KS</td>\n",
              "      <td>None</td>\n",
              "      <td>None</td>\n",
              "      <td>Consent provided</td>\n",
              "      <td>Web</td>\n",
              "      <td>2/29/2020</td>\n",
              "      <td>Closed with explanation</td>\n",
              "      <td>Yes</td>\n",
              "      <td>NaN</td>\n",
              "      <td>3549178</td>\n",
              "    </tr>\n",
              "    <tr>\n",
              "      <th>57449</th>\n",
              "      <td>2/11/2020</td>\n",
              "      <td>Debt collection</td>\n",
              "      <td>Other debt</td>\n",
              "      <td>Attempts to collect debt not owed</td>\n",
              "      <td>Debt was paid</td>\n",
              "      <td>Received letter for {$480.00}. Original credit...</td>\n",
              "      <td>Company has responded to the consumer and the ...</td>\n",
              "      <td>The Receivable Management Services LLC, New Yo...</td>\n",
              "      <td>AZ</td>\n",
              "      <td>853XX</td>\n",
              "      <td>None</td>\n",
              "      <td>Consent provided</td>\n",
              "      <td>Web</td>\n",
              "      <td>2/18/2020</td>\n",
              "      <td>Closed with explanation</td>\n",
              "      <td>Yes</td>\n",
              "      <td>NaN</td>\n",
              "      <td>3527928</td>\n",
              "    </tr>\n",
              "    <tr>\n",
              "      <th>57450</th>\n",
              "      <td>2/29/2020</td>\n",
              "      <td>Debt collection</td>\n",
              "      <td>Other debt</td>\n",
              "      <td>Communication tactics</td>\n",
              "      <td>Used obscene, profane, or other abusive language</td>\n",
              "      <td>entire time 10 years until XX/XX/2020. XXXX ma...</td>\n",
              "      <td>Company has responded to the consumer and the ...</td>\n",
              "      <td>Convergent Resources, Inc.</td>\n",
              "      <td>NJ</td>\n",
              "      <td>8101</td>\n",
              "      <td>None</td>\n",
              "      <td>Consent provided</td>\n",
              "      <td>Web</td>\n",
              "      <td>2/29/2020</td>\n",
              "      <td>Closed with explanation</td>\n",
              "      <td>Yes</td>\n",
              "      <td>NaN</td>\n",
              "      <td>3549238</td>\n",
              "    </tr>\n",
              "    <tr>\n",
              "      <th>57451</th>\n",
              "      <td>1/16/2020</td>\n",
              "      <td>Checking or savings account</td>\n",
              "      <td>Checking account</td>\n",
              "      <td>Problem with a lender or other company chargin...</td>\n",
              "      <td>Transaction was not authorized</td>\n",
              "      <td>I am a customer with Wells Fargo Bank. Recentl...</td>\n",
              "      <td>Company has responded to the consumer and the ...</td>\n",
              "      <td>WELLS FARGO &amp; COMPANY</td>\n",
              "      <td>AZ</td>\n",
              "      <td>852XX</td>\n",
              "      <td>None</td>\n",
              "      <td>Consent provided</td>\n",
              "      <td>Web</td>\n",
              "      <td>1/22/2020</td>\n",
              "      <td>Closed with explanation</td>\n",
              "      <td>Yes</td>\n",
              "      <td>NaN</td>\n",
              "      <td>3498566</td>\n",
              "    </tr>\n",
              "    <tr>\n",
              "      <th>57452</th>\n",
              "      <td>1/16/2020</td>\n",
              "      <td>Debt collection</td>\n",
              "      <td>Auto debt</td>\n",
              "      <td>Took or threatened to take negative or legal a...</td>\n",
              "      <td>Threatened or suggested your credit would be d...</td>\n",
              "      <td>I spoken with them several times in a year. An...</td>\n",
              "      <td>None</td>\n",
              "      <td>Exeter Finance Corp.</td>\n",
              "      <td>SC</td>\n",
              "      <td>None</td>\n",
              "      <td>None</td>\n",
              "      <td>Consent provided</td>\n",
              "      <td>Web</td>\n",
              "      <td>1/16/2020</td>\n",
              "      <td>Closed with explanation</td>\n",
              "      <td>Yes</td>\n",
              "      <td>NaN</td>\n",
              "      <td>3498524</td>\n",
              "    </tr>\n",
              "  </tbody>\n",
              "</table>\n",
              "<p>57453 rows × 18 columns</p>\n",
              "</div>"
            ],
            "text/plain": [
              "      Date received  ... Complaint ID\n",
              "0          4/3/2020  ...      3591341\n",
              "1         3/12/2020  ...      3564184\n",
              "2          2/6/2020  ...      3521949\n",
              "3          3/6/2020  ...      3556237\n",
              "4         2/14/2020  ...      3531704\n",
              "...             ...  ...          ...\n",
              "57448     2/29/2020  ...      3549178\n",
              "57449     2/11/2020  ...      3527928\n",
              "57450     2/29/2020  ...      3549238\n",
              "57451     1/16/2020  ...      3498566\n",
              "57452     1/16/2020  ...      3498524\n",
              "\n",
              "[57453 rows x 18 columns]"
            ]
          },
          "metadata": {
            "tags": []
          },
          "execution_count": 5
        }
      ]
    },
    {
      "cell_type": "code",
      "metadata": {
        "id": "iorf2kkqimFN"
      },
      "source": [
        "\n",
        "STOPWORDS= set(stopwords.words('english'))\n",
        "\n",
        "df['Consumer complaint narrative']= df['Consumer complaint narrative'].apply(lambda x: ' '.join([word for word in x.split() if word not in (STOPWORDS)]))"
      ],
      "execution_count": 6,
      "outputs": []
    },
    {
      "cell_type": "code",
      "metadata": {
        "colab": {
          "base_uri": "https://localhost:8080/",
          "height": 1000
        },
        "id": "tVlIFS0CivaK",
        "outputId": "deb140a6-f232-4265-debe-ff5cdb11f38e"
      },
      "source": [
        "df"
      ],
      "execution_count": 7,
      "outputs": [
        {
          "output_type": "execute_result",
          "data": {
            "text/html": [
              "<div>\n",
              "<style scoped>\n",
              "    .dataframe tbody tr th:only-of-type {\n",
              "        vertical-align: middle;\n",
              "    }\n",
              "\n",
              "    .dataframe tbody tr th {\n",
              "        vertical-align: top;\n",
              "    }\n",
              "\n",
              "    .dataframe thead th {\n",
              "        text-align: right;\n",
              "    }\n",
              "</style>\n",
              "<table border=\"1\" class=\"dataframe\">\n",
              "  <thead>\n",
              "    <tr style=\"text-align: right;\">\n",
              "      <th></th>\n",
              "      <th>Date received</th>\n",
              "      <th>Product</th>\n",
              "      <th>Sub-product</th>\n",
              "      <th>Issue</th>\n",
              "      <th>Sub-issue</th>\n",
              "      <th>Consumer complaint narrative</th>\n",
              "      <th>Company public response</th>\n",
              "      <th>Company</th>\n",
              "      <th>State</th>\n",
              "      <th>ZIP code</th>\n",
              "      <th>Tags</th>\n",
              "      <th>Consumer consent provided?</th>\n",
              "      <th>Submitted via</th>\n",
              "      <th>Date sent to company</th>\n",
              "      <th>Company response to consumer</th>\n",
              "      <th>Timely response?</th>\n",
              "      <th>Consumer disputed?</th>\n",
              "      <th>Complaint ID</th>\n",
              "    </tr>\n",
              "  </thead>\n",
              "  <tbody>\n",
              "    <tr>\n",
              "      <th>0</th>\n",
              "      <td>4/3/2020</td>\n",
              "      <td>Vehicle loan or lease</td>\n",
              "      <td>Loan</td>\n",
              "      <td>Getting a loan or lease</td>\n",
              "      <td>Fraudulent loan</td>\n",
              "      <td>This auto loan opened XX/XX/2020 XXXX, NC BB &amp;...</td>\n",
              "      <td>Company has responded to the consumer and the ...</td>\n",
              "      <td>TRUIST FINANCIAL CORPORATION</td>\n",
              "      <td>PA</td>\n",
              "      <td>None</td>\n",
              "      <td>None</td>\n",
              "      <td>Consent provided</td>\n",
              "      <td>Web</td>\n",
              "      <td>4/3/2020</td>\n",
              "      <td>Closed with explanation</td>\n",
              "      <td>Yes</td>\n",
              "      <td>NaN</td>\n",
              "      <td>3591341</td>\n",
              "    </tr>\n",
              "    <tr>\n",
              "      <th>1</th>\n",
              "      <td>3/12/2020</td>\n",
              "      <td>Debt collection</td>\n",
              "      <td>Payday loan debt</td>\n",
              "      <td>Attempts to collect debt not owed</td>\n",
              "      <td>Debt is not yours</td>\n",
              "      <td>In XXXX 2019 I noticed debt {$620.00} credit b...</td>\n",
              "      <td>None</td>\n",
              "      <td>CURO Intermediate Holdings</td>\n",
              "      <td>CO</td>\n",
              "      <td>806XX</td>\n",
              "      <td>None</td>\n",
              "      <td>Consent provided</td>\n",
              "      <td>Web</td>\n",
              "      <td>3/12/2020</td>\n",
              "      <td>Closed with explanation</td>\n",
              "      <td>Yes</td>\n",
              "      <td>NaN</td>\n",
              "      <td>3564184</td>\n",
              "    </tr>\n",
              "    <tr>\n",
              "      <th>2</th>\n",
              "      <td>2/6/2020</td>\n",
              "      <td>Vehicle loan or lease</td>\n",
              "      <td>Loan</td>\n",
              "      <td>Getting a loan or lease</td>\n",
              "      <td>Credit denial</td>\n",
              "      <td>As stated Capital One, XXXX XX/XX/XXXX XXXX 20...</td>\n",
              "      <td>None</td>\n",
              "      <td>CAPITAL ONE FINANCIAL CORPORATION</td>\n",
              "      <td>OH</td>\n",
              "      <td>430XX</td>\n",
              "      <td>None</td>\n",
              "      <td>Consent provided</td>\n",
              "      <td>Web</td>\n",
              "      <td>2/6/2020</td>\n",
              "      <td>Closed with explanation</td>\n",
              "      <td>Yes</td>\n",
              "      <td>NaN</td>\n",
              "      <td>3521949</td>\n",
              "    </tr>\n",
              "    <tr>\n",
              "      <th>3</th>\n",
              "      <td>3/6/2020</td>\n",
              "      <td>Checking or savings account</td>\n",
              "      <td>Savings account</td>\n",
              "      <td>Managing an account</td>\n",
              "      <td>Banking errors</td>\n",
              "      <td>Please see CFPB case XXXX. Capital One, letter...</td>\n",
              "      <td>None</td>\n",
              "      <td>CAPITAL ONE FINANCIAL CORPORATION</td>\n",
              "      <td>CA</td>\n",
              "      <td>None</td>\n",
              "      <td>None</td>\n",
              "      <td>Consent provided</td>\n",
              "      <td>Web</td>\n",
              "      <td>3/6/2020</td>\n",
              "      <td>Closed with explanation</td>\n",
              "      <td>Yes</td>\n",
              "      <td>NaN</td>\n",
              "      <td>3556237</td>\n",
              "    </tr>\n",
              "    <tr>\n",
              "      <th>4</th>\n",
              "      <td>2/14/2020</td>\n",
              "      <td>Debt collection</td>\n",
              "      <td>Medical debt</td>\n",
              "      <td>Attempts to collect debt not owed</td>\n",
              "      <td>Debt is not yours</td>\n",
              "      <td>This debt incurred due medical malpractice ( X...</td>\n",
              "      <td>Company believes it acted appropriately as aut...</td>\n",
              "      <td>Merchants and Professional Bureau, Inc.</td>\n",
              "      <td>OH</td>\n",
              "      <td>432XX</td>\n",
              "      <td>None</td>\n",
              "      <td>Consent provided</td>\n",
              "      <td>Web</td>\n",
              "      <td>2/14/2020</td>\n",
              "      <td>Closed with explanation</td>\n",
              "      <td>Yes</td>\n",
              "      <td>NaN</td>\n",
              "      <td>3531704</td>\n",
              "    </tr>\n",
              "    <tr>\n",
              "      <th>...</th>\n",
              "      <td>...</td>\n",
              "      <td>...</td>\n",
              "      <td>...</td>\n",
              "      <td>...</td>\n",
              "      <td>...</td>\n",
              "      <td>...</td>\n",
              "      <td>...</td>\n",
              "      <td>...</td>\n",
              "      <td>...</td>\n",
              "      <td>...</td>\n",
              "      <td>...</td>\n",
              "      <td>...</td>\n",
              "      <td>...</td>\n",
              "      <td>...</td>\n",
              "      <td>...</td>\n",
              "      <td>...</td>\n",
              "      <td>...</td>\n",
              "      <td>...</td>\n",
              "    </tr>\n",
              "    <tr>\n",
              "      <th>57448</th>\n",
              "      <td>2/29/2020</td>\n",
              "      <td>Student loan</td>\n",
              "      <td>Federal student loan servicing</td>\n",
              "      <td>Dealing with your lender or servicer</td>\n",
              "      <td>Trouble with how payments are being handled</td>\n",
              "      <td>I attempting make payment toward student loans...</td>\n",
              "      <td>None</td>\n",
              "      <td>Nelnet, Inc.</td>\n",
              "      <td>KS</td>\n",
              "      <td>None</td>\n",
              "      <td>None</td>\n",
              "      <td>Consent provided</td>\n",
              "      <td>Web</td>\n",
              "      <td>2/29/2020</td>\n",
              "      <td>Closed with explanation</td>\n",
              "      <td>Yes</td>\n",
              "      <td>NaN</td>\n",
              "      <td>3549178</td>\n",
              "    </tr>\n",
              "    <tr>\n",
              "      <th>57449</th>\n",
              "      <td>2/11/2020</td>\n",
              "      <td>Debt collection</td>\n",
              "      <td>Other debt</td>\n",
              "      <td>Attempts to collect debt not owed</td>\n",
              "      <td>Debt was paid</td>\n",
              "      <td>Received letter {$480.00}. Original creditor d...</td>\n",
              "      <td>Company has responded to the consumer and the ...</td>\n",
              "      <td>The Receivable Management Services LLC, New Yo...</td>\n",
              "      <td>AZ</td>\n",
              "      <td>853XX</td>\n",
              "      <td>None</td>\n",
              "      <td>Consent provided</td>\n",
              "      <td>Web</td>\n",
              "      <td>2/18/2020</td>\n",
              "      <td>Closed with explanation</td>\n",
              "      <td>Yes</td>\n",
              "      <td>NaN</td>\n",
              "      <td>3527928</td>\n",
              "    </tr>\n",
              "    <tr>\n",
              "      <th>57450</th>\n",
              "      <td>2/29/2020</td>\n",
              "      <td>Debt collection</td>\n",
              "      <td>Other debt</td>\n",
              "      <td>Communication tactics</td>\n",
              "      <td>Used obscene, profane, or other abusive language</td>\n",
              "      <td>entire time 10 years XX/XX/2020. XXXX makes bl...</td>\n",
              "      <td>Company has responded to the consumer and the ...</td>\n",
              "      <td>Convergent Resources, Inc.</td>\n",
              "      <td>NJ</td>\n",
              "      <td>8101</td>\n",
              "      <td>None</td>\n",
              "      <td>Consent provided</td>\n",
              "      <td>Web</td>\n",
              "      <td>2/29/2020</td>\n",
              "      <td>Closed with explanation</td>\n",
              "      <td>Yes</td>\n",
              "      <td>NaN</td>\n",
              "      <td>3549238</td>\n",
              "    </tr>\n",
              "    <tr>\n",
              "      <th>57451</th>\n",
              "      <td>1/16/2020</td>\n",
              "      <td>Checking or savings account</td>\n",
              "      <td>Checking account</td>\n",
              "      <td>Problem with a lender or other company chargin...</td>\n",
              "      <td>Transaction was not authorized</td>\n",
              "      <td>I customer Wells Fargo Bank. Recently money wi...</td>\n",
              "      <td>Company has responded to the consumer and the ...</td>\n",
              "      <td>WELLS FARGO &amp; COMPANY</td>\n",
              "      <td>AZ</td>\n",
              "      <td>852XX</td>\n",
              "      <td>None</td>\n",
              "      <td>Consent provided</td>\n",
              "      <td>Web</td>\n",
              "      <td>1/22/2020</td>\n",
              "      <td>Closed with explanation</td>\n",
              "      <td>Yes</td>\n",
              "      <td>NaN</td>\n",
              "      <td>3498566</td>\n",
              "    </tr>\n",
              "    <tr>\n",
              "      <th>57452</th>\n",
              "      <td>1/16/2020</td>\n",
              "      <td>Debt collection</td>\n",
              "      <td>Auto debt</td>\n",
              "      <td>Took or threatened to take negative or legal a...</td>\n",
              "      <td>Threatened or suggested your credit would be d...</td>\n",
              "      <td>I spoken several times year. An XXXX informed ...</td>\n",
              "      <td>None</td>\n",
              "      <td>Exeter Finance Corp.</td>\n",
              "      <td>SC</td>\n",
              "      <td>None</td>\n",
              "      <td>None</td>\n",
              "      <td>Consent provided</td>\n",
              "      <td>Web</td>\n",
              "      <td>1/16/2020</td>\n",
              "      <td>Closed with explanation</td>\n",
              "      <td>Yes</td>\n",
              "      <td>NaN</td>\n",
              "      <td>3498524</td>\n",
              "    </tr>\n",
              "  </tbody>\n",
              "</table>\n",
              "<p>57453 rows × 18 columns</p>\n",
              "</div>"
            ],
            "text/plain": [
              "      Date received  ... Complaint ID\n",
              "0          4/3/2020  ...      3591341\n",
              "1         3/12/2020  ...      3564184\n",
              "2          2/6/2020  ...      3521949\n",
              "3          3/6/2020  ...      3556237\n",
              "4         2/14/2020  ...      3531704\n",
              "...             ...  ...          ...\n",
              "57448     2/29/2020  ...      3549178\n",
              "57449     2/11/2020  ...      3527928\n",
              "57450     2/29/2020  ...      3549238\n",
              "57451     1/16/2020  ...      3498566\n",
              "57452     1/16/2020  ...      3498524\n",
              "\n",
              "[57453 rows x 18 columns]"
            ]
          },
          "metadata": {
            "tags": []
          },
          "execution_count": 7
        }
      ]
    },
    {
      "cell_type": "code",
      "metadata": {
        "colab": {
          "base_uri": "https://localhost:8080/",
          "height": 103
        },
        "id": "tjZgSWb2jMra",
        "outputId": "78b97eb7-da39-4c67-ff0a-327613b19ad3"
      },
      "source": [
        "df['Consumer complaint narrative'][0]"
      ],
      "execution_count": 8,
      "outputs": [
        {
          "output_type": "execute_result",
          "data": {
            "application/vnd.google.colaboratory.intrinsic+json": {
              "type": "string"
            },
            "text/plain": [
              "\"This auto loan opened XX/XX/2020 XXXX, NC BB & T name. I NEVER North Carolina I NEVER resident. I filed dispute twice credit bureaus times BB & T claimed accurate loan. Which I aware today. I tried contact BB & T multiple times I never gotten live person. I n't drive I never owned car before. I knowledge account I checked XXXXXXXX XXXX noticed it. I've tried twice dispute it. Additionally I never received bills information account. This last resort trying remove fraudulent loan account.\""
            ]
          },
          "metadata": {
            "tags": []
          },
          "execution_count": 8
        }
      ]
    },
    {
      "cell_type": "code",
      "metadata": {
        "colab": {
          "base_uri": "https://localhost:8080/"
        },
        "id": "y63kFsYYz7dE",
        "outputId": "51ac87db-5314-4e4e-8ac5-172ef9f28f6d"
      },
      "source": [
        "df['Product'].value_counts()"
      ],
      "execution_count": 50,
      "outputs": [
        {
          "output_type": "execute_result",
          "data": {
            "text/plain": [
              "Debtcollection              21772\n",
              "Creditcardorprepaidcard     13193\n",
              "Mortgage                     9799\n",
              "Checkingorsavingsaccount     7003\n",
              "Studentloan                  2950\n",
              "Vehicleloanorlease           2736\n",
              "Name: Product, dtype: int64"
            ]
          },
          "metadata": {
            "tags": []
          },
          "execution_count": 50
        }
      ]
    },
    {
      "cell_type": "code",
      "metadata": {
        "id": "-FIDoMBfoABY"
      },
      "source": [
        "df['Product']= df['Product'].replace(' ', '',regex=True)"
      ],
      "execution_count": 9,
      "outputs": []
    },
    {
      "cell_type": "code",
      "metadata": {
        "colab": {
          "base_uri": "https://localhost:8080/",
          "height": 1000
        },
        "id": "qoO5g3GgjfJ7",
        "outputId": "0153e702-354a-46d3-db07-567dbcfbfe40"
      },
      "source": [
        "import torch\n",
        "!pip install flair\n",
        "import flair"
      ],
      "execution_count": 10,
      "outputs": [
        {
          "output_type": "stream",
          "text": [
            "Collecting flair\n",
            "\u001b[?25l  Downloading https://files.pythonhosted.org/packages/f0/3a/1b46a0220d6176b22bcb9336619d1731301bc2c75fa926a9ef953e6e4d58/flair-0.8.0.post1-py3-none-any.whl (284kB)\n",
            "\r\u001b[K     |█▏                              | 10kB 21.6MB/s eta 0:00:01\r\u001b[K     |██▎                             | 20kB 17.1MB/s eta 0:00:01\r\u001b[K     |███▌                            | 30kB 10.4MB/s eta 0:00:01\r\u001b[K     |████▋                           | 40kB 8.5MB/s eta 0:00:01\r\u001b[K     |█████▊                          | 51kB 7.6MB/s eta 0:00:01\r\u001b[K     |███████                         | 61kB 8.1MB/s eta 0:00:01\r\u001b[K     |████████                        | 71kB 8.0MB/s eta 0:00:01\r\u001b[K     |█████████▏                      | 81kB 8.1MB/s eta 0:00:01\r\u001b[K     |██████████▍                     | 92kB 8.4MB/s eta 0:00:01\r\u001b[K     |███████████▌                    | 102kB 7.4MB/s eta 0:00:01\r\u001b[K     |████████████▋                   | 112kB 7.4MB/s eta 0:00:01\r\u001b[K     |█████████████▉                  | 122kB 7.4MB/s eta 0:00:01\r\u001b[K     |███████████████                 | 133kB 7.4MB/s eta 0:00:01\r\u001b[K     |████████████████                | 143kB 7.4MB/s eta 0:00:01\r\u001b[K     |█████████████████▎              | 153kB 7.4MB/s eta 0:00:01\r\u001b[K     |██████████████████▍             | 163kB 7.4MB/s eta 0:00:01\r\u001b[K     |███████████████████▋            | 174kB 7.4MB/s eta 0:00:01\r\u001b[K     |████████████████████▊           | 184kB 7.4MB/s eta 0:00:01\r\u001b[K     |█████████████████████▉          | 194kB 7.4MB/s eta 0:00:01\r\u001b[K     |███████████████████████         | 204kB 7.4MB/s eta 0:00:01\r\u001b[K     |████████████████████████▏       | 215kB 7.4MB/s eta 0:00:01\r\u001b[K     |█████████████████████████▎      | 225kB 7.4MB/s eta 0:00:01\r\u001b[K     |██████████████████████████▌     | 235kB 7.4MB/s eta 0:00:01\r\u001b[K     |███████████████████████████▋    | 245kB 7.4MB/s eta 0:00:01\r\u001b[K     |████████████████████████████▊   | 256kB 7.4MB/s eta 0:00:01\r\u001b[K     |██████████████████████████████  | 266kB 7.4MB/s eta 0:00:01\r\u001b[K     |███████████████████████████████ | 276kB 7.4MB/s eta 0:00:01\r\u001b[K     |████████████████████████████████| 286kB 7.4MB/s \n",
            "\u001b[?25hCollecting gdown==3.12.2\n",
            "  Downloading https://files.pythonhosted.org/packages/50/21/92c3cfe56f5c0647145c4b0083d0733dd4890a057eb100a8eeddf949ffe9/gdown-3.12.2.tar.gz\n",
            "  Installing build dependencies ... \u001b[?25l\u001b[?25hdone\n",
            "  Getting requirements to build wheel ... \u001b[?25l\u001b[?25hdone\n",
            "    Preparing wheel metadata ... \u001b[?25l\u001b[?25hdone\n",
            "Requirement already satisfied: regex in /usr/local/lib/python3.7/dist-packages (from flair) (2019.12.20)\n",
            "Requirement already satisfied: matplotlib>=2.2.3 in /usr/local/lib/python3.7/dist-packages (from flair) (3.2.2)\n",
            "Collecting langdetect\n",
            "\u001b[?25l  Downloading https://files.pythonhosted.org/packages/56/a3/8407c1e62d5980188b4acc45ef3d94b933d14a2ebc9ef3505f22cf772570/langdetect-1.0.8.tar.gz (981kB)\n",
            "\u001b[K     |████████████████████████████████| 983kB 12.7MB/s \n",
            "\u001b[?25hRequirement already satisfied: numpy<1.20.0 in /usr/local/lib/python3.7/dist-packages (from flair) (1.19.5)\n",
            "Collecting sentencepiece==0.1.95\n",
            "\u001b[?25l  Downloading https://files.pythonhosted.org/packages/f5/99/e0808cb947ba10f575839c43e8fafc9cc44e4a7a2c8f79c60db48220a577/sentencepiece-0.1.95-cp37-cp37m-manylinux2014_x86_64.whl (1.2MB)\n",
            "\u001b[K     |████████████████████████████████| 1.2MB 27.8MB/s \n",
            "\u001b[?25hCollecting sqlitedict>=1.6.0\n",
            "  Downloading https://files.pythonhosted.org/packages/5c/2d/b1d99e9ad157dd7de9cd0d36a8a5876b13b55e4b75f7498bc96035fb4e96/sqlitedict-1.7.0.tar.gz\n",
            "Collecting segtok>=1.5.7\n",
            "  Downloading https://files.pythonhosted.org/packages/41/08/582dab5f4b1d5ca23bc6927b4bb977c8ff7f3a87a3b98844ef833e2f5623/segtok-1.5.10.tar.gz\n",
            "Collecting transformers>=4.0.0\n",
            "\u001b[?25l  Downloading https://files.pythonhosted.org/packages/81/91/61d69d58a1af1bd81d9ca9d62c90a6de3ab80d77f27c5df65d9a2c1f5626/transformers-4.5.0-py3-none-any.whl (2.1MB)\n",
            "\u001b[K     |████████████████████████████████| 2.2MB 20.8MB/s \n",
            "\u001b[?25hCollecting mpld3==0.3\n",
            "\u001b[?25l  Downloading https://files.pythonhosted.org/packages/91/95/a52d3a83d0a29ba0d6898f6727e9858fe7a43f6c2ce81a5fe7e05f0f4912/mpld3-0.3.tar.gz (788kB)\n",
            "\u001b[K     |████████████████████████████████| 798kB 54.3MB/s \n",
            "\u001b[?25hRequirement already satisfied: gensim<=3.8.3,>=3.4.0 in /usr/local/lib/python3.7/dist-packages (from flair) (3.6.0)\n",
            "Collecting deprecated>=1.2.4\n",
            "  Downloading https://files.pythonhosted.org/packages/fb/73/994edfcba74443146c84b91921fcc269374354118d4f452fb0c54c1cbb12/Deprecated-1.2.12-py2.py3-none-any.whl\n",
            "Collecting konoha<5.0.0,>=4.0.0\n",
            "  Downloading https://files.pythonhosted.org/packages/02/be/4dd30d56a0a19619deb9bf41ba8202709fa83b1b301b876572cd6dc38117/konoha-4.6.4-py3-none-any.whl\n",
            "Collecting torch<=1.7.1,>=1.5.0\n",
            "\u001b[?25l  Downloading https://files.pythonhosted.org/packages/90/5d/095ddddc91c8a769a68c791c019c5793f9c4456a688ddd235d6670924ecb/torch-1.7.1-cp37-cp37m-manylinux1_x86_64.whl (776.8MB)\n",
            "\u001b[K     |████████████████████████████████| 776.8MB 23kB/s \n",
            "\u001b[?25hCollecting huggingface-hub\n",
            "  Downloading https://files.pythonhosted.org/packages/a1/88/7b1e45720ecf59c6c6737ff332f41c955963090a18e72acbcbeac6b25e86/huggingface_hub-0.0.8-py3-none-any.whl\n",
            "Requirement already satisfied: scikit-learn>=0.21.3 in /usr/local/lib/python3.7/dist-packages (from flair) (0.22.2.post1)\n",
            "Collecting janome\n",
            "\u001b[?25l  Downloading https://files.pythonhosted.org/packages/a8/63/98858cbead27df7536c7e300c169da0999e9704d02220dc6700b804eeff0/Janome-0.4.1-py2.py3-none-any.whl (19.7MB)\n",
            "\u001b[K     |████████████████████████████████| 19.7MB 1.3MB/s \n",
            "\u001b[?25hRequirement already satisfied: python-dateutil>=2.6.1 in /usr/local/lib/python3.7/dist-packages (from flair) (2.8.1)\n",
            "Requirement already satisfied: tabulate in /usr/local/lib/python3.7/dist-packages (from flair) (0.8.9)\n",
            "Requirement already satisfied: lxml in /usr/local/lib/python3.7/dist-packages (from flair) (4.2.6)\n",
            "Requirement already satisfied: hyperopt>=0.1.1 in /usr/local/lib/python3.7/dist-packages (from flair) (0.1.2)\n",
            "Collecting ftfy\n",
            "\u001b[?25l  Downloading https://files.pythonhosted.org/packages/78/50/ba5ec9ff8b56e09c0aa8e13d2cc6e24b31bdd23e2bab8f510929bcc4ac48/ftfy-6.0.tar.gz (63kB)\n",
            "\u001b[K     |████████████████████████████████| 71kB 10.0MB/s \n",
            "\u001b[?25hCollecting bpemb>=0.3.2\n",
            "  Downloading https://files.pythonhosted.org/packages/f2/6f/9191b85109772636a8f8accb122900c34db26c091d2793218aa94954524c/bpemb-0.3.3-py3-none-any.whl\n",
            "Requirement already satisfied: tqdm>=4.26.0 in /usr/local/lib/python3.7/dist-packages (from flair) (4.41.1)\n",
            "Requirement already satisfied: filelock in /usr/local/lib/python3.7/dist-packages (from gdown==3.12.2->flair) (3.0.12)\n",
            "Requirement already satisfied: requests[socks] in /usr/local/lib/python3.7/dist-packages (from gdown==3.12.2->flair) (2.23.0)\n",
            "Requirement already satisfied: six in /usr/local/lib/python3.7/dist-packages (from gdown==3.12.2->flair) (1.15.0)\n",
            "Requirement already satisfied: kiwisolver>=1.0.1 in /usr/local/lib/python3.7/dist-packages (from matplotlib>=2.2.3->flair) (1.3.1)\n",
            "Requirement already satisfied: cycler>=0.10 in /usr/local/lib/python3.7/dist-packages (from matplotlib>=2.2.3->flair) (0.10.0)\n",
            "Requirement already satisfied: pyparsing!=2.0.4,!=2.1.2,!=2.1.6,>=2.0.1 in /usr/local/lib/python3.7/dist-packages (from matplotlib>=2.2.3->flair) (2.4.7)\n",
            "Collecting tokenizers<0.11,>=0.10.1\n",
            "\u001b[?25l  Downloading https://files.pythonhosted.org/packages/ae/04/5b870f26a858552025a62f1649c20d29d2672c02ff3c3fb4c688ca46467a/tokenizers-0.10.2-cp37-cp37m-manylinux2010_x86_64.whl (3.3MB)\n",
            "\u001b[K     |████████████████████████████████| 3.3MB 45.9MB/s \n",
            "\u001b[?25hRequirement already satisfied: importlib-metadata; python_version < \"3.8\" in /usr/local/lib/python3.7/dist-packages (from transformers>=4.0.0->flair) (3.8.1)\n",
            "Collecting sacremoses\n",
            "\u001b[?25l  Downloading https://files.pythonhosted.org/packages/08/cd/342e584ee544d044fb573ae697404ce22ede086c9e87ce5960772084cad0/sacremoses-0.0.44.tar.gz (862kB)\n",
            "\u001b[K     |████████████████████████████████| 870kB 46.8MB/s \n",
            "\u001b[?25hRequirement already satisfied: packaging in /usr/local/lib/python3.7/dist-packages (from transformers>=4.0.0->flair) (20.9)\n",
            "Requirement already satisfied: scipy>=0.18.1 in /usr/local/lib/python3.7/dist-packages (from gensim<=3.8.3,>=3.4.0->flair) (1.4.1)\n",
            "Requirement already satisfied: smart-open>=1.2.1 in /usr/local/lib/python3.7/dist-packages (from gensim<=3.8.3,>=3.4.0->flair) (4.2.0)\n",
            "Requirement already satisfied: wrapt<2,>=1.10 in /usr/local/lib/python3.7/dist-packages (from deprecated>=1.2.4->flair) (1.12.1)\n",
            "Collecting overrides<4.0.0,>=3.0.0\n",
            "  Downloading https://files.pythonhosted.org/packages/ff/b1/10f69c00947518e6676bbd43e739733048de64b8dd998e9c2d5a71f44c5d/overrides-3.1.0.tar.gz\n",
            "Requirement already satisfied: typing-extensions in /usr/local/lib/python3.7/dist-packages (from torch<=1.7.1,>=1.5.0->flair) (3.7.4.3)\n",
            "Requirement already satisfied: joblib>=0.11 in /usr/local/lib/python3.7/dist-packages (from scikit-learn>=0.21.3->flair) (1.0.1)\n",
            "Requirement already satisfied: pymongo in /usr/local/lib/python3.7/dist-packages (from hyperopt>=0.1.1->flair) (3.11.3)\n",
            "Requirement already satisfied: networkx in /usr/local/lib/python3.7/dist-packages (from hyperopt>=0.1.1->flair) (2.5)\n",
            "Requirement already satisfied: future in /usr/local/lib/python3.7/dist-packages (from hyperopt>=0.1.1->flair) (0.16.0)\n",
            "Requirement already satisfied: wcwidth in /usr/local/lib/python3.7/dist-packages (from ftfy->flair) (0.2.5)\n",
            "Requirement already satisfied: idna<3,>=2.5 in /usr/local/lib/python3.7/dist-packages (from requests[socks]->gdown==3.12.2->flair) (2.10)\n",
            "Requirement already satisfied: certifi>=2017.4.17 in /usr/local/lib/python3.7/dist-packages (from requests[socks]->gdown==3.12.2->flair) (2020.12.5)\n",
            "Requirement already satisfied: chardet<4,>=3.0.2 in /usr/local/lib/python3.7/dist-packages (from requests[socks]->gdown==3.12.2->flair) (3.0.4)\n",
            "Requirement already satisfied: urllib3!=1.25.0,!=1.25.1,<1.26,>=1.21.1 in /usr/local/lib/python3.7/dist-packages (from requests[socks]->gdown==3.12.2->flair) (1.24.3)\n",
            "Requirement already satisfied: PySocks!=1.5.7,>=1.5.6; extra == \"socks\" in /usr/local/lib/python3.7/dist-packages (from requests[socks]->gdown==3.12.2->flair) (1.7.1)\n",
            "Requirement already satisfied: zipp>=0.5 in /usr/local/lib/python3.7/dist-packages (from importlib-metadata; python_version < \"3.8\"->transformers>=4.0.0->flair) (3.4.1)\n",
            "Requirement already satisfied: click in /usr/local/lib/python3.7/dist-packages (from sacremoses->transformers>=4.0.0->flair) (7.1.2)\n",
            "Requirement already satisfied: decorator>=4.3.0 in /usr/local/lib/python3.7/dist-packages (from networkx->hyperopt>=0.1.1->flair) (4.4.2)\n",
            "Building wheels for collected packages: gdown\n",
            "  Building wheel for gdown (PEP 517) ... \u001b[?25l\u001b[?25hdone\n",
            "  Created wheel for gdown: filename=gdown-3.12.2-cp37-none-any.whl size=9693 sha256=b5185dbf89bc61e00aacb739dc63cb3a779d41ade0018f97e65f26698cc422f7\n",
            "  Stored in directory: /root/.cache/pip/wheels/81/d0/d7/d9983facc6f2775411803e0e2d30ebf98efbf2fc6e57701e09\n",
            "Successfully built gdown\n",
            "Building wheels for collected packages: langdetect, sqlitedict, segtok, mpld3, ftfy, sacremoses, overrides\n",
            "  Building wheel for langdetect (setup.py) ... \u001b[?25l\u001b[?25hdone\n",
            "  Created wheel for langdetect: filename=langdetect-1.0.8-cp37-none-any.whl size=993193 sha256=99687c6640eb5893b3346a9a4d59f327095126c6bfb1f51e0a396ae4bd008de5\n",
            "  Stored in directory: /root/.cache/pip/wheels/8d/b3/aa/6d99de9f3841d7d3d40a60ea06e6d669e8e5012e6c8b947a57\n",
            "  Building wheel for sqlitedict (setup.py) ... \u001b[?25l\u001b[?25hdone\n",
            "  Created wheel for sqlitedict: filename=sqlitedict-1.7.0-cp37-none-any.whl size=14376 sha256=dff4200ddb9a5578d4f0e6ba76eeacecaa9aaae0f36b1f34127469ca7e8bd95f\n",
            "  Stored in directory: /root/.cache/pip/wheels/cf/c6/4f/2c64a43f041415eb8b8740bd80e15e92f0d46c5e464d8e4b9b\n",
            "  Building wheel for segtok (setup.py) ... \u001b[?25l\u001b[?25hdone\n",
            "  Created wheel for segtok: filename=segtok-1.5.10-cp37-none-any.whl size=25019 sha256=e75ecc204787e02b3a7ff0e9f7a76f47a905470b7e7f14b807df6b35d11682f0\n",
            "  Stored in directory: /root/.cache/pip/wheels/b4/39/f6/9ca1c5cabde964d728023b5751c3a206a5c8cc40252321fb6b\n",
            "  Building wheel for mpld3 (setup.py) ... \u001b[?25l\u001b[?25hdone\n",
            "  Created wheel for mpld3: filename=mpld3-0.3-cp37-none-any.whl size=116679 sha256=f202616421adcea0de344cabb5d6a34bad8cdae474f6ed09d7857b001142ce64\n",
            "  Stored in directory: /root/.cache/pip/wheels/c0/47/fb/8a64f89aecfe0059830479308ad42d62e898a3e3cefdf6ba28\n",
            "  Building wheel for ftfy (setup.py) ... \u001b[?25l\u001b[?25hdone\n",
            "  Created wheel for ftfy: filename=ftfy-6.0-cp37-none-any.whl size=41622 sha256=141d4c40bf96af6f6fde7664e6a33d23dbefab035d538167e04c2bdad0e6e6d5\n",
            "  Stored in directory: /root/.cache/pip/wheels/22/8b/08/7d1c17849e10371206a262304973b5a9f45e8b9d0a2179f465\n",
            "  Building wheel for sacremoses (setup.py) ... \u001b[?25l\u001b[?25hdone\n",
            "  Created wheel for sacremoses: filename=sacremoses-0.0.44-cp37-none-any.whl size=886084 sha256=5dd963fd9990c0bfabd446f3bfb83ae55c4de1dd7ac5f2375bfdb852f0170497\n",
            "  Stored in directory: /root/.cache/pip/wheels/3e/fb/c0/13ab4d63d537658f448366744654323077c4d90069b6512f3c\n",
            "  Building wheel for overrides (setup.py) ... \u001b[?25l\u001b[?25hdone\n",
            "  Created wheel for overrides: filename=overrides-3.1.0-cp37-none-any.whl size=10174 sha256=cdc0ad46ad51db8f30c53698b075724163a374a21ff1922035476834913dc91a\n",
            "  Stored in directory: /root/.cache/pip/wheels/5c/24/13/6ef8600e6f147c95e595f1289a86a3cc82ed65df57582c65a9\n",
            "Successfully built langdetect sqlitedict segtok mpld3 ftfy sacremoses overrides\n",
            "\u001b[31mERROR: torchvision 0.9.1+cu101 has requirement torch==1.8.1, but you'll have torch 1.7.1 which is incompatible.\u001b[0m\n",
            "\u001b[31mERROR: torchtext 0.9.1 has requirement torch==1.8.1, but you'll have torch 1.7.1 which is incompatible.\u001b[0m\n",
            "\u001b[31mERROR: konoha 4.6.4 has requirement requests<3.0.0,>=2.25.1, but you'll have requests 2.23.0 which is incompatible.\u001b[0m\n",
            "Installing collected packages: gdown, langdetect, sentencepiece, sqlitedict, segtok, tokenizers, sacremoses, transformers, mpld3, deprecated, overrides, konoha, torch, huggingface-hub, janome, ftfy, bpemb, flair\n",
            "  Found existing installation: gdown 3.6.4\n",
            "    Uninstalling gdown-3.6.4:\n",
            "      Successfully uninstalled gdown-3.6.4\n",
            "  Found existing installation: torch 1.8.1+cu101\n",
            "    Uninstalling torch-1.8.1+cu101:\n",
            "      Successfully uninstalled torch-1.8.1+cu101\n",
            "Successfully installed bpemb-0.3.3 deprecated-1.2.12 flair-0.8.0.post1 ftfy-6.0 gdown-3.12.2 huggingface-hub-0.0.8 janome-0.4.1 konoha-4.6.4 langdetect-1.0.8 mpld3-0.3 overrides-3.1.0 sacremoses-0.0.44 segtok-1.5.10 sentencepiece-0.1.95 sqlitedict-1.7.0 tokenizers-0.10.2 torch-1.7.1 transformers-4.5.0\n"
          ],
          "name": "stdout"
        },
        {
          "output_type": "display_data",
          "data": {
            "application/vnd.colab-display-data+json": {
              "pip_warning": {
                "packages": [
                  "torch"
                ]
              }
            }
          },
          "metadata": {
            "tags": []
          }
        }
      ]
    },
    {
      "cell_type": "code",
      "metadata": {
        "id": "vvTszlLJk7if"
      },
      "source": [
        "df1= df[['Consumer complaint narrative','Product']]"
      ],
      "execution_count": 11,
      "outputs": []
    },
    {
      "cell_type": "code",
      "metadata": {
        "id": "3znNb_HJmvKJ"
      },
      "source": [
        "#rename columns\n",
        "df1.columns= ['text','labels']"
      ],
      "execution_count": 12,
      "outputs": []
    },
    {
      "cell_type": "code",
      "metadata": {
        "colab": {
          "base_uri": "https://localhost:8080/",
          "height": 204
        },
        "id": "EXmlUi7qm6IY",
        "outputId": "effa7c29-3789-4fae-a225-4670580625d7"
      },
      "source": [
        "df1.head()"
      ],
      "execution_count": 13,
      "outputs": [
        {
          "output_type": "execute_result",
          "data": {
            "text/html": [
              "<div>\n",
              "<style scoped>\n",
              "    .dataframe tbody tr th:only-of-type {\n",
              "        vertical-align: middle;\n",
              "    }\n",
              "\n",
              "    .dataframe tbody tr th {\n",
              "        vertical-align: top;\n",
              "    }\n",
              "\n",
              "    .dataframe thead th {\n",
              "        text-align: right;\n",
              "    }\n",
              "</style>\n",
              "<table border=\"1\" class=\"dataframe\">\n",
              "  <thead>\n",
              "    <tr style=\"text-align: right;\">\n",
              "      <th></th>\n",
              "      <th>text</th>\n",
              "      <th>labels</th>\n",
              "    </tr>\n",
              "  </thead>\n",
              "  <tbody>\n",
              "    <tr>\n",
              "      <th>0</th>\n",
              "      <td>This auto loan opened XX/XX/2020 XXXX, NC BB &amp;...</td>\n",
              "      <td>Vehicleloanorlease</td>\n",
              "    </tr>\n",
              "    <tr>\n",
              "      <th>1</th>\n",
              "      <td>In XXXX 2019 I noticed debt {$620.00} credit b...</td>\n",
              "      <td>Debtcollection</td>\n",
              "    </tr>\n",
              "    <tr>\n",
              "      <th>2</th>\n",
              "      <td>As stated Capital One, XXXX XX/XX/XXXX XXXX 20...</td>\n",
              "      <td>Vehicleloanorlease</td>\n",
              "    </tr>\n",
              "    <tr>\n",
              "      <th>3</th>\n",
              "      <td>Please see CFPB case XXXX. Capital One, letter...</td>\n",
              "      <td>Checkingorsavingsaccount</td>\n",
              "    </tr>\n",
              "    <tr>\n",
              "      <th>4</th>\n",
              "      <td>This debt incurred due medical malpractice ( X...</td>\n",
              "      <td>Debtcollection</td>\n",
              "    </tr>\n",
              "  </tbody>\n",
              "</table>\n",
              "</div>"
            ],
            "text/plain": [
              "                                                text                    labels\n",
              "0  This auto loan opened XX/XX/2020 XXXX, NC BB &...        Vehicleloanorlease\n",
              "1  In XXXX 2019 I noticed debt {$620.00} credit b...            Debtcollection\n",
              "2  As stated Capital One, XXXX XX/XX/XXXX XXXX 20...        Vehicleloanorlease\n",
              "3  Please see CFPB case XXXX. Capital One, letter...  Checkingorsavingsaccount\n",
              "4  This debt incurred due medical malpractice ( X...            Debtcollection"
            ]
          },
          "metadata": {
            "tags": []
          },
          "execution_count": 13
        }
      ]
    },
    {
      "cell_type": "code",
      "metadata": {
        "id": "N8KfU0nKnRKj"
      },
      "source": [
        "df_fst=df1.copy()"
      ],
      "execution_count": 14,
      "outputs": []
    },
    {
      "cell_type": "code",
      "metadata": {
        "colab": {
          "base_uri": "https://localhost:8080/",
          "height": 204
        },
        "id": "V-OO5hIvnY-d",
        "outputId": "adb1955d-858c-4115-a833-4e23fb166943"
      },
      "source": [
        "df_fst.head()"
      ],
      "execution_count": 15,
      "outputs": [
        {
          "output_type": "execute_result",
          "data": {
            "text/html": [
              "<div>\n",
              "<style scoped>\n",
              "    .dataframe tbody tr th:only-of-type {\n",
              "        vertical-align: middle;\n",
              "    }\n",
              "\n",
              "    .dataframe tbody tr th {\n",
              "        vertical-align: top;\n",
              "    }\n",
              "\n",
              "    .dataframe thead th {\n",
              "        text-align: right;\n",
              "    }\n",
              "</style>\n",
              "<table border=\"1\" class=\"dataframe\">\n",
              "  <thead>\n",
              "    <tr style=\"text-align: right;\">\n",
              "      <th></th>\n",
              "      <th>text</th>\n",
              "      <th>labels</th>\n",
              "    </tr>\n",
              "  </thead>\n",
              "  <tbody>\n",
              "    <tr>\n",
              "      <th>0</th>\n",
              "      <td>This auto loan opened XX/XX/2020 XXXX, NC BB &amp;...</td>\n",
              "      <td>Vehicleloanorlease</td>\n",
              "    </tr>\n",
              "    <tr>\n",
              "      <th>1</th>\n",
              "      <td>In XXXX 2019 I noticed debt {$620.00} credit b...</td>\n",
              "      <td>Debtcollection</td>\n",
              "    </tr>\n",
              "    <tr>\n",
              "      <th>2</th>\n",
              "      <td>As stated Capital One, XXXX XX/XX/XXXX XXXX 20...</td>\n",
              "      <td>Vehicleloanorlease</td>\n",
              "    </tr>\n",
              "    <tr>\n",
              "      <th>3</th>\n",
              "      <td>Please see CFPB case XXXX. Capital One, letter...</td>\n",
              "      <td>Checkingorsavingsaccount</td>\n",
              "    </tr>\n",
              "    <tr>\n",
              "      <th>4</th>\n",
              "      <td>This debt incurred due medical malpractice ( X...</td>\n",
              "      <td>Debtcollection</td>\n",
              "    </tr>\n",
              "  </tbody>\n",
              "</table>\n",
              "</div>"
            ],
            "text/plain": [
              "                                                text                    labels\n",
              "0  This auto loan opened XX/XX/2020 XXXX, NC BB &...        Vehicleloanorlease\n",
              "1  In XXXX 2019 I noticed debt {$620.00} credit b...            Debtcollection\n",
              "2  As stated Capital One, XXXX XX/XX/XXXX XXXX 20...        Vehicleloanorlease\n",
              "3  Please see CFPB case XXXX. Capital One, letter...  Checkingorsavingsaccount\n",
              "4  This debt incurred due medical malpractice ( X...            Debtcollection"
            ]
          },
          "metadata": {
            "tags": []
          },
          "execution_count": 15
        }
      ]
    },
    {
      "cell_type": "code",
      "metadata": {
        "colab": {
          "base_uri": "https://localhost:8080/"
        },
        "id": "atKJfxVwncdj",
        "outputId": "2a14f720-ea78-4345-8e64-fc62f9c467ad"
      },
      "source": [
        "'__label__' + df_fst['labels'].astype(str)"
      ],
      "execution_count": 16,
      "outputs": [
        {
          "output_type": "execute_result",
          "data": {
            "text/plain": [
              "0              __label__Vehicleloanorlease\n",
              "1                  __label__Debtcollection\n",
              "2              __label__Vehicleloanorlease\n",
              "3        __label__Checkingorsavingsaccount\n",
              "4                  __label__Debtcollection\n",
              "                       ...                \n",
              "57448                 __label__Studentloan\n",
              "57449              __label__Debtcollection\n",
              "57450              __label__Debtcollection\n",
              "57451    __label__Checkingorsavingsaccount\n",
              "57452              __label__Debtcollection\n",
              "Name: labels, Length: 57453, dtype: object"
            ]
          },
          "metadata": {
            "tags": []
          },
          "execution_count": 16
        }
      ]
    },
    {
      "cell_type": "code",
      "metadata": {
        "id": "lkKxHmYwoXBO"
      },
      "source": [
        "df_fst['labels']= '__label__' + df_fst['labels'].astype(str)"
      ],
      "execution_count": 17,
      "outputs": []
    },
    {
      "cell_type": "code",
      "metadata": {
        "id": "dWIDEbqHrTdd"
      },
      "source": [
        "df_fst= df_fst[['labels', 'text']]"
      ],
      "execution_count": 18,
      "outputs": []
    },
    {
      "cell_type": "code",
      "metadata": {
        "colab": {
          "base_uri": "https://localhost:8080/",
          "height": 204
        },
        "id": "SeT1RBA1rgPQ",
        "outputId": "441bc315-1091-4147-ef1f-baefe67a595f"
      },
      "source": [
        "df_fst.head()"
      ],
      "execution_count": 19,
      "outputs": [
        {
          "output_type": "execute_result",
          "data": {
            "text/html": [
              "<div>\n",
              "<style scoped>\n",
              "    .dataframe tbody tr th:only-of-type {\n",
              "        vertical-align: middle;\n",
              "    }\n",
              "\n",
              "    .dataframe tbody tr th {\n",
              "        vertical-align: top;\n",
              "    }\n",
              "\n",
              "    .dataframe thead th {\n",
              "        text-align: right;\n",
              "    }\n",
              "</style>\n",
              "<table border=\"1\" class=\"dataframe\">\n",
              "  <thead>\n",
              "    <tr style=\"text-align: right;\">\n",
              "      <th></th>\n",
              "      <th>labels</th>\n",
              "      <th>text</th>\n",
              "    </tr>\n",
              "  </thead>\n",
              "  <tbody>\n",
              "    <tr>\n",
              "      <th>0</th>\n",
              "      <td>__label__Vehicleloanorlease</td>\n",
              "      <td>This auto loan opened XX/XX/2020 XXXX, NC BB &amp;...</td>\n",
              "    </tr>\n",
              "    <tr>\n",
              "      <th>1</th>\n",
              "      <td>__label__Debtcollection</td>\n",
              "      <td>In XXXX 2019 I noticed debt {$620.00} credit b...</td>\n",
              "    </tr>\n",
              "    <tr>\n",
              "      <th>2</th>\n",
              "      <td>__label__Vehicleloanorlease</td>\n",
              "      <td>As stated Capital One, XXXX XX/XX/XXXX XXXX 20...</td>\n",
              "    </tr>\n",
              "    <tr>\n",
              "      <th>3</th>\n",
              "      <td>__label__Checkingorsavingsaccount</td>\n",
              "      <td>Please see CFPB case XXXX. Capital One, letter...</td>\n",
              "    </tr>\n",
              "    <tr>\n",
              "      <th>4</th>\n",
              "      <td>__label__Debtcollection</td>\n",
              "      <td>This debt incurred due medical malpractice ( X...</td>\n",
              "    </tr>\n",
              "  </tbody>\n",
              "</table>\n",
              "</div>"
            ],
            "text/plain": [
              "                              labels                                               text\n",
              "0        __label__Vehicleloanorlease  This auto loan opened XX/XX/2020 XXXX, NC BB &...\n",
              "1            __label__Debtcollection  In XXXX 2019 I noticed debt {$620.00} credit b...\n",
              "2        __label__Vehicleloanorlease  As stated Capital One, XXXX XX/XX/XXXX XXXX 20...\n",
              "3  __label__Checkingorsavingsaccount  Please see CFPB case XXXX. Capital One, letter...\n",
              "4            __label__Debtcollection  This debt incurred due medical malpractice ( X..."
            ]
          },
          "metadata": {
            "tags": []
          },
          "execution_count": 19
        }
      ]
    },
    {
      "cell_type": "code",
      "metadata": {
        "id": "e96nY162rlgv"
      },
      "source": [
        "#splitting dataset into 3\n",
        "train,test,dev= np.split(df1, [int(.6*len(df1)),int(0.8*len(df1))])"
      ],
      "execution_count": 20,
      "outputs": []
    },
    {
      "cell_type": "code",
      "metadata": {
        "id": "FE_kCg-Ts8XS"
      },
      "source": [
        "#create a folder for CSV\n",
        "!mkdir -p data"
      ],
      "execution_count": 21,
      "outputs": []
    },
    {
      "cell_type": "code",
      "metadata": {
        "id": "YOLFnY7Xtetl"
      },
      "source": [
        "train.to_csv(\"data/train.csv\")\n",
        "test.to_csv(\"data/test.csv\")\n",
        "dev.to_csv(\"data/dev.csv\")"
      ],
      "execution_count": 22,
      "outputs": []
    },
    {
      "cell_type": "code",
      "metadata": {
        "id": "ZoAwfeKpt25l"
      },
      "source": [
        "#splitting fastText format into 3\n",
        "\n",
        "train_fst,test_fst,dev_fst= np.split(df_fst, [int(.6*len(df_fst)),int(0.8*len(df_fst))])"
      ],
      "execution_count": 23,
      "outputs": []
    },
    {
      "cell_type": "code",
      "metadata": {
        "id": "YS7b59h0wI5s"
      },
      "source": [
        "!mkdir -p data_fst"
      ],
      "execution_count": 24,
      "outputs": []
    },
    {
      "cell_type": "code",
      "metadata": {
        "id": "gd7hDfdawN4q"
      },
      "source": [
        "train_fst.to_csv(\"data_fst/train.csv\", sep='\\t',index=False, header=False)\n",
        "test_fst.to_csv(\"data_fst/test.csv\", sep='\\t',index=False, header=False)\n",
        "dev_fst.to_csv(\"data_fst/dev.csv\", sep='\\t',index=False, header=False)"
      ],
      "execution_count": 25,
      "outputs": []
    },
    {
      "cell_type": "code",
      "metadata": {
        "id": "7FlqGg3BzkhQ"
      },
      "source": [
        "#Building out corpus\n",
        "#CSVClassificationCorpus\n",
        "#ClassificationCorpus"
      ],
      "execution_count": 26,
      "outputs": []
    },
    {
      "cell_type": "code",
      "metadata": {
        "id": "ZYrCMnXA08cW"
      },
      "source": [
        "from flair.datasets import ClassificationCorpus, CSVClassificationCorpus\n",
        "from flair.data import Corpus"
      ],
      "execution_count": 27,
      "outputs": []
    },
    {
      "cell_type": "code",
      "metadata": {
        "colab": {
          "base_uri": "https://localhost:8080/"
        },
        "id": "KCyQjHay1S71",
        "outputId": "aacd7767-994f-41b7-d410-7c8a270da8be"
      },
      "source": [
        "#for CSV\n",
        "df1.columns"
      ],
      "execution_count": 28,
      "outputs": [
        {
          "output_type": "execute_result",
          "data": {
            "text/plain": [
              "Index(['text', 'labels'], dtype='object')"
            ]
          },
          "metadata": {
            "tags": []
          },
          "execution_count": 28
        }
      ]
    },
    {
      "cell_type": "code",
      "metadata": {
        "id": "rloW9KFf1cK7"
      },
      "source": [
        "#create column mapping\n",
        "\n",
        "Column_name_map ={2: 'label_topic', 1:'text'}"
      ],
      "execution_count": 29,
      "outputs": []
    },
    {
      "cell_type": "code",
      "metadata": {
        "id": "0hckIUoq4TOa"
      },
      "source": [
        "#location of the CSV\n",
        "data_folder= 'data/'"
      ],
      "execution_count": 30,
      "outputs": []
    },
    {
      "cell_type": "code",
      "metadata": {
        "colab": {
          "base_uri": "https://localhost:8080/"
        },
        "id": "C3je9nbC4epc",
        "outputId": "2b2db150-6c43-4d99-f5cb-40b2593891bc"
      },
      "source": [
        "#create corpus for CSV\n",
        "\n",
        "corpus_csv: Corpus= CSVClassificationCorpus(data_folder=data_folder, column_name_map=Column_name_map, skip_header=True, delimiter=',')"
      ],
      "execution_count": 31,
      "outputs": [
        {
          "output_type": "stream",
          "text": [
            "2021-04-13 03:17:35,660 Reading data from data\n",
            "2021-04-13 03:17:35,662 Train: data/train.csv\n",
            "2021-04-13 03:17:35,663 Dev: data/dev.csv\n",
            "2021-04-13 03:17:35,664 Test: data/test.csv\n"
          ],
          "name": "stdout"
        }
      ]
    },
    {
      "cell_type": "code",
      "metadata": {
        "id": "aT4QpwFs5N-E"
      },
      "source": [
        "#method 2 using FastText Format\n",
        "\n",
        "data_folder_fst= 'data_fst/'"
      ],
      "execution_count": 32,
      "outputs": []
    },
    {
      "cell_type": "code",
      "metadata": {
        "colab": {
          "base_uri": "https://localhost:8080/"
        },
        "id": "ma4LvdMW5ffa",
        "outputId": "7b7bc927-db83-41f1-f4d2-fa59551cf294"
      },
      "source": [
        "corpus_fst:Corpus =ClassificationCorpus(data_folder_fst)"
      ],
      "execution_count": 33,
      "outputs": [
        {
          "output_type": "stream",
          "text": [
            "2021-04-13 03:17:36,492 Reading data from data_fst\n",
            "2021-04-13 03:17:36,494 Train: data_fst/train.csv\n",
            "2021-04-13 03:17:36,496 Dev: data_fst/dev.csv\n",
            "2021-04-13 03:17:36,498 Test: data_fst/test.csv\n"
          ],
          "name": "stdout"
        }
      ]
    },
    {
      "cell_type": "code",
      "metadata": {
        "colab": {
          "base_uri": "https://localhost:8080/"
        },
        "id": "7bc3xrpK55Hg",
        "outputId": "efb2eeb8-ff43-418b-e00f-17a43d258983"
      },
      "source": [
        "#creating label dictionary for CSV\n",
        "\n",
        "label_dict_csv= corpus_csv.make_label_dictionary()"
      ],
      "execution_count": 34,
      "outputs": [
        {
          "output_type": "stream",
          "text": [
            "2021-04-13 03:17:37,380 Computing label dictionary. Progress:\n"
          ],
          "name": "stdout"
        },
        {
          "output_type": "stream",
          "text": [
            "/usr/local/lib/python3.7/dist-packages/torch/utils/data/dataloader.py:477: UserWarning: This DataLoader will create 8 worker processes in total. Our suggested max number of worker in current system is 2, which is smaller than what this DataLoader is going to create. Please be aware that excessive worker creation might get DataLoader running slow or even freeze, lower the worker number to avoid potential slowness/freeze if necessary.\n",
            "  data = _utils.pin_memory.pin_memory(data)\n",
            "100%|██████████| 45962/45962 [03:13<00:00, 237.99it/s]"
          ],
          "name": "stderr"
        },
        {
          "output_type": "stream",
          "text": [
            "2021-04-13 03:20:50,685 [b'Vehicleloanorlease', b'Debtcollection', b'Checkingorsavingsaccount', b'Mortgage', b'Creditcardorprepaidcard', b'Studentloan']\n"
          ],
          "name": "stdout"
        },
        {
          "output_type": "stream",
          "text": [
            "\n"
          ],
          "name": "stderr"
        }
      ]
    },
    {
      "cell_type": "code",
      "metadata": {
        "colab": {
          "base_uri": "https://localhost:8080/"
        },
        "id": "XsGlumZZ6RfC",
        "outputId": "ffa384f5-96d1-4538-b5ae-513f4c0f10ad"
      },
      "source": [
        "#creating label dictionary for Fasttext\n",
        "\n",
        "label_dict_fst= corpus_fst.make_label_dictionary()"
      ],
      "execution_count": 35,
      "outputs": [
        {
          "output_type": "stream",
          "text": [
            "2021-04-13 03:20:50,698 Computing label dictionary. Progress:\n"
          ],
          "name": "stdout"
        },
        {
          "output_type": "stream",
          "text": [
            "/usr/local/lib/python3.7/dist-packages/torch/utils/data/dataloader.py:477: UserWarning: This DataLoader will create 8 worker processes in total. Our suggested max number of worker in current system is 2, which is smaller than what this DataLoader is going to create. Please be aware that excessive worker creation might get DataLoader running slow or even freeze, lower the worker number to avoid potential slowness/freeze if necessary.\n",
            "  data = _utils.pin_memory.pin_memory(data)\n",
            "100%|██████████| 45962/45962 [03:13<00:00, 237.50it/s]"
          ],
          "name": "stderr"
        },
        {
          "output_type": "stream",
          "text": [
            "2021-04-13 03:24:04,439 [b'Vehicleloanorlease', b'Debtcollection', b'Checkingorsavingsaccount', b'Mortgage', b'Creditcardorprepaidcard', b'Studentloan']\n"
          ],
          "name": "stdout"
        },
        {
          "output_type": "stream",
          "text": [
            "\n"
          ],
          "name": "stderr"
        }
      ]
    },
    {
      "cell_type": "code",
      "metadata": {
        "id": "XzhaecMb9Sor"
      },
      "source": [
        "#Working with the Word Embedding\n",
        "\n",
        "from flair.embeddings import FlairEmbeddings, WordEmbeddings, StackedEmbeddings, DocumentLSTMEmbeddings, DocumentRNNEmbeddings"
      ],
      "execution_count": 36,
      "outputs": []
    },
    {
      "cell_type": "code",
      "metadata": {
        "colab": {
          "base_uri": "https://localhost:8080/"
        },
        "id": "_vhnAgMe91YZ",
        "outputId": "1a639a33-d1a0-455c-ce5d-5e9841e48825"
      },
      "source": [
        "#create Embedding\n",
        "\n",
        "word_embedding = [FlairEmbeddings('news-forward-fast'), FlairEmbeddings('news-backward-fast')]"
      ],
      "execution_count": 37,
      "outputs": [
        {
          "output_type": "stream",
          "text": [
            "2021-04-13 03:24:05,139 https://flair.informatik.hu-berlin.de/resources/embeddings/flair/lm-news-english-forward-1024-v0.2rc.pt not found in cache, downloading to /tmp/tmpyy8hhyi5\n"
          ],
          "name": "stdout"
        },
        {
          "output_type": "stream",
          "text": [
            "100%|██████████| 19689779/19689779 [00:01<00:00, 9846227.59B/s]"
          ],
          "name": "stderr"
        },
        {
          "output_type": "stream",
          "text": [
            "2021-04-13 03:24:07,628 copying /tmp/tmpyy8hhyi5 to cache at /root/.flair/embeddings/lm-news-english-forward-1024-v0.2rc.pt\n",
            "2021-04-13 03:24:07,651 removing temp file /tmp/tmpyy8hhyi5\n"
          ],
          "name": "stdout"
        },
        {
          "output_type": "stream",
          "text": [
            "\n"
          ],
          "name": "stderr"
        },
        {
          "output_type": "stream",
          "text": [
            "2021-04-13 03:24:12,466 https://flair.informatik.hu-berlin.de/resources/embeddings/flair/lm-news-english-backward-1024-v0.2rc.pt not found in cache, downloading to /tmp/tmp715uspga\n"
          ],
          "name": "stdout"
        },
        {
          "output_type": "stream",
          "text": [
            "100%|██████████| 19689779/19689779 [00:02<00:00, 9489928.76B/s]"
          ],
          "name": "stderr"
        },
        {
          "output_type": "stream",
          "text": [
            "2021-04-13 03:24:15,046 copying /tmp/tmp715uspga to cache at /root/.flair/embeddings/lm-news-english-backward-1024-v0.2rc.pt\n"
          ],
          "name": "stdout"
        },
        {
          "output_type": "stream",
          "text": [
            "\n"
          ],
          "name": "stderr"
        },
        {
          "output_type": "stream",
          "text": [
            "2021-04-13 03:24:15,075 removing temp file /tmp/tmp715uspga\n"
          ],
          "name": "stdout"
        }
      ]
    },
    {
      "cell_type": "code",
      "metadata": {
        "colab": {
          "base_uri": "https://localhost:8080/"
        },
        "id": "zH2XDLAx-Z5B",
        "outputId": "f4a7f9b6-1dc3-463a-e97e-19b7f50852ce"
      },
      "source": [
        "document_embedding= DocumentLSTMEmbeddings(word_embedding, hidden_size=512, reproject_words=True, reproject_words_dimension=256)"
      ],
      "execution_count": 38,
      "outputs": [
        {
          "output_type": "stream",
          "text": [
            "/usr/local/lib/python3.7/dist-packages/ipykernel_launcher.py:1: DeprecationWarning: Call to deprecated method __init__. (The functionality of this class is moved to 'DocumentRNNEmbeddings') -- Deprecated since version 0.4.\n",
            "  \"\"\"Entry point for launching an IPython kernel.\n"
          ],
          "name": "stderr"
        }
      ]
    },
    {
      "cell_type": "markdown",
      "metadata": {
        "id": "EE52RpaoACh-"
      },
      "source": [
        "**Build and train model**"
      ]
    },
    {
      "cell_type": "code",
      "metadata": {
        "id": "oCjggjrFAHjd"
      },
      "source": [
        "from flair.models import TextClassifier\n",
        "from flair.trainers import ModelTrainer"
      ],
      "execution_count": 39,
      "outputs": []
    },
    {
      "cell_type": "code",
      "metadata": {
        "id": "zeT61XM5AUnY"
      },
      "source": [
        "clf =TextClassifier(document_embedding, label_dictionary=label_dict_fst)"
      ],
      "execution_count": 40,
      "outputs": []
    },
    {
      "cell_type": "code",
      "metadata": {
        "id": "1NgHT8m6BD9D"
      },
      "source": [
        "#Training\n",
        "trainer= ModelTrainer(clf, corpus_fst)"
      ],
      "execution_count": 41,
      "outputs": []
    },
    {
      "cell_type": "code",
      "metadata": {
        "colab": {
          "base_uri": "https://localhost:8080/"
        },
        "id": "mZrQ40W7BXXv",
        "outputId": "d2380f46-c43e-4edb-c803-5d05b532fa04"
      },
      "source": [
        "trainer.train('data_fst', max_epochs=1)"
      ],
      "execution_count": 45,
      "outputs": [
        {
          "output_type": "stream",
          "text": [
            "2021-04-13 05:33:20,958 ----------------------------------------------------------------------------------------------------\n",
            "2021-04-13 05:33:20,961 Model: \"TextClassifier(\n",
            "  (document_embeddings): DocumentLSTMEmbeddings(\n",
            "    (embeddings): StackedEmbeddings(\n",
            "      (list_embedding_0): FlairEmbeddings(\n",
            "        (lm): LanguageModel(\n",
            "          (drop): Dropout(p=0.25, inplace=False)\n",
            "          (encoder): Embedding(275, 100)\n",
            "          (rnn): LSTM(100, 1024)\n",
            "          (decoder): Linear(in_features=1024, out_features=275, bias=True)\n",
            "        )\n",
            "      )\n",
            "      (list_embedding_1): FlairEmbeddings(\n",
            "        (lm): LanguageModel(\n",
            "          (drop): Dropout(p=0.25, inplace=False)\n",
            "          (encoder): Embedding(275, 100)\n",
            "          (rnn): LSTM(100, 1024)\n",
            "          (decoder): Linear(in_features=1024, out_features=275, bias=True)\n",
            "        )\n",
            "      )\n",
            "    )\n",
            "    (word_reprojection_map): Linear(in_features=2048, out_features=256, bias=True)\n",
            "    (rnn): GRU(256, 512)\n",
            "    (dropout): Dropout(p=0.5, inplace=False)\n",
            "  )\n",
            "  (decoder): Linear(in_features=512, out_features=6, bias=True)\n",
            "  (loss_function): CrossEntropyLoss()\n",
            "  (beta): 1.0\n",
            "  (weights): None\n",
            "  (weight_tensor) None\n",
            ")\"\n",
            "2021-04-13 05:33:20,963 ----------------------------------------------------------------------------------------------------\n",
            "2021-04-13 05:33:20,965 Corpus: \"Corpus: 34471 train + 11491 dev + 11491 test sentences\"\n",
            "2021-04-13 05:33:20,967 ----------------------------------------------------------------------------------------------------\n",
            "2021-04-13 05:33:20,968 Parameters:\n",
            "2021-04-13 05:33:20,969  - learning_rate: \"0.1\"\n",
            "2021-04-13 05:33:20,971  - mini_batch_size: \"32\"\n",
            "2021-04-13 05:33:20,972  - patience: \"3\"\n",
            "2021-04-13 05:33:20,973  - anneal_factor: \"0.5\"\n",
            "2021-04-13 05:33:20,974  - max_epochs: \"1\"\n",
            "2021-04-13 05:33:20,975  - shuffle: \"True\"\n",
            "2021-04-13 05:33:20,976  - train_with_dev: \"False\"\n",
            "2021-04-13 05:33:20,979  - batch_growth_annealing: \"False\"\n",
            "2021-04-13 05:33:20,980 ----------------------------------------------------------------------------------------------------\n",
            "2021-04-13 05:33:20,981 Model training base path: \"data_fst\"\n",
            "2021-04-13 05:33:20,982 ----------------------------------------------------------------------------------------------------\n",
            "2021-04-13 05:33:20,983 Device: cuda:0\n",
            "2021-04-13 05:33:20,984 ----------------------------------------------------------------------------------------------------\n",
            "2021-04-13 05:33:20,985 Embeddings storage mode: cpu\n",
            "2021-04-13 05:33:21,106 ----------------------------------------------------------------------------------------------------\n",
            "2021-04-13 05:33:21,107 Testing using best model ...\n"
          ],
          "name": "stdout"
        },
        {
          "output_type": "stream",
          "text": [
            "/usr/local/lib/python3.7/dist-packages/torch/utils/data/dataloader.py:477: UserWarning: This DataLoader will create 6 worker processes in total. Our suggested max number of worker in current system is 2, which is smaller than what this DataLoader is going to create. Please be aware that excessive worker creation might get DataLoader running slow or even freeze, lower the worker number to avoid potential slowness/freeze if necessary.\n",
            "  data = _utils.pin_memory.pin_memory(data)\n"
          ],
          "name": "stderr"
        },
        {
          "output_type": "stream",
          "text": [
            "2021-04-13 05:44:42,013 \t0.4754\n",
            "2021-04-13 05:44:42,015 \n",
            "Results:\n",
            "- F-score (micro) 0.4754\n",
            "- F-score (macro) 0.2182\n",
            "- Accuracy 0.4754\n",
            "\n",
            "By class:\n",
            "                          precision    recall  f1-score   support\n",
            "\n",
            "      Vehicleloanorlease     0.0000    0.0000    0.0000       540\n",
            "          Debtcollection     0.4951    0.9548    0.6520      4199\n",
            "Checkingorsavingsaccount     0.2500    0.0007    0.0014      1426\n",
            "                Mortgage     0.5596    0.1598    0.2486      2028\n",
            " Creditcardorprepaidcard     0.4018    0.4125    0.4071      2737\n",
            "             Studentloan     0.0000    0.0000    0.0000       561\n",
            "\n",
            "               micro avg     0.4754    0.4754    0.4754     11491\n",
            "               macro avg     0.2844    0.2546    0.2182     11491\n",
            "            weighted avg     0.4064    0.4754    0.3793     11491\n",
            "             samples avg     0.4754    0.4754    0.4754     11491\n",
            "\n",
            "2021-04-13 05:44:42,016 ----------------------------------------------------------------------------------------------------\n"
          ],
          "name": "stdout"
        },
        {
          "output_type": "execute_result",
          "data": {
            "text/plain": [
              "{'dev_loss_history': [],\n",
              " 'dev_score_history': [],\n",
              " 'test_score': 0.4754,\n",
              " 'train_loss_history': []}"
            ]
          },
          "metadata": {
            "tags": []
          },
          "execution_count": 45
        }
      ]
    }
  ]
}